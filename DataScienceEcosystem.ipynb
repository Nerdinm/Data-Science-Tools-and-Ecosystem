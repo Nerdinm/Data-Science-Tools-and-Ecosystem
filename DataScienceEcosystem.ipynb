{
 "cells": [
  {
   "cell_type": "markdown",
   "id": "26c7d0b5-fdef-45c5-83a6-2b0de8a07abd",
   "metadata": {},
   "source": [
    "# Data Science Tools and Ecosystem"
   ]
  },
  {
   "cell_type": "markdown",
   "id": "c0cc32b6-0e70-43fa-8ac8-c9393fe61d7d",
   "metadata": {},
   "source": [
    "In this notebook, Data Science Tools and Ecosystem are summarized."
   ]
  },
  {
   "cell_type": "markdown",
   "id": "503678ed-c1a8-45c8-9999-64ff2e427b66",
   "metadata": {
    "jp-MarkdownHeadingCollapsed": true
   },
   "source": [
    "**objective**\n",
    "- List popular languages for Data Science\n",
    "- Libraries used by Data Scientists\n",
    "- Data Science tools\n",
    "- Evaluating arithmetic expressions in Python"
   ]
  },
  {
   "cell_type": "markdown",
   "id": "22ae6b42-dc8b-4505-8201-eae25ee0d5c8",
   "metadata": {},
   "source": [
    "## Author"
   ]
  },
  {
   "cell_type": "markdown",
   "id": "67568d7b-15dc-4b19-9c02-a4cf107a908e",
   "metadata": {},
   "source": [
    "Nerdin Mansour"
   ]
  },
  {
   "cell_type": "markdown",
   "id": "8b28f605-c965-4df6-8b5e-90524006b617",
   "metadata": {},
   "source": [
    "Some of the popular languages that Data Scientists use are:\n",
    "1. Scala\n",
    "2. Java\n",
    "3. Julia\n",
    "4. SQL"
   ]
  },
  {
   "cell_type": "markdown",
   "id": "95052db7-5089-40f1-9cad-a130044b8cd3",
   "metadata": {},
   "source": [
    "Some of the commonly used libraries used by Data Scientists include:\n",
    "1. NumPy\n",
    "2. Pandas\n",
    "3. Matplotlib\n",
    "4. Seaborn\n",
    "5. TensorFlow"
   ]
  },
  {
   "cell_type": "markdown",
   "id": "20e0edf2-0146-4362-95af-4d8276d90309",
   "metadata": {},
   "source": [
    "| Data Science Tools | \r\n",
    "|----------|\r\n",
    "Jupyter Notebooks1    |\r",
    "RStudio4  \n",
    "| Spyder |   |"
   ]
  },
  {
   "cell_type": "markdown",
   "id": "1e885ebc-5adb-4fc7-83da-1c8883c83e9f",
   "metadata": {},
   "source": [
    "### Below are a few examples of evaluating arithmetic expressions in Python"
   ]
  },
  {
   "cell_type": "markdown",
   "id": "c18112db-1a82-479b-9e42-5a76b3d02afd",
   "metadata": {},
   "source": [
    "This a simple arithmetic expression to mutiply then add integers"
   ]
  },
  {
   "cell_type": "code",
   "execution_count": 8,
   "id": "115719f5-ad9e-4805-b4db-85795dad3067",
   "metadata": {},
   "outputs": [
    {
     "name": "stdout",
     "output_type": "stream",
     "text": [
      "17\n"
     ]
    }
   ],
   "source": [
    "result = (3 * 4) + 5\n",
    "print(result)"
   ]
  },
  {
   "cell_type": "markdown",
   "id": "1a00d489-bf7c-4b14-97c8-3a7554fd6da6",
   "metadata": {},
   "source": [
    "This will convert 200 minutes to hours by diving by 60"
   ]
  },
  {
   "cell_type": "code",
   "execution_count": 9,
   "id": "ca1dfbad-7a98-4b8a-be85-c512f89b56cb",
   "metadata": {},
   "outputs": [
    {
     "name": "stdout",
     "output_type": "stream",
     "text": [
      "3.3333333333333335\n"
     ]
    }
   ],
   "source": [
    "minutes = 200\n",
    "hours = minutes / 60\n",
    "print(hours)"
   ]
  }
 ],
 "metadata": {
  "kernelspec": {
   "display_name": "Python 3 (ipykernel)",
   "language": "python",
   "name": "python3"
  },
  "language_info": {
   "codemirror_mode": {
    "name": "ipython",
    "version": 3
   },
   "file_extension": ".py",
   "mimetype": "text/x-python",
   "name": "python",
   "nbconvert_exporter": "python",
   "pygments_lexer": "ipython3",
   "version": "3.12.2"
  }
 },
 "nbformat": 4,
 "nbformat_minor": 5
}
